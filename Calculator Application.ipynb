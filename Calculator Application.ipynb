{
 "cells": [
  {
   "cell_type": "markdown",
   "id": "179e23ff-8cfe-4bc8-9263-efb7d45eae93",
   "metadata": {},
   "source": [
    "## Calculator Application\n",
    "This project is a simple Calculator application developed using Python. It allows users to perform basic arithmetic operations through a menu-driven interface.\n",
    "\n",
    "The calculator supports the following operations:\n",
    "\n",
    "\"Find Sum\": Adds two numbers entered by the user and displays the result.\n",
    "\"Find Difference\": Subtracts the second number from the first and shows the result.\n",
    "\"Find Product\": Multiplies two numbers and displays the result.\n",
    "\"Find Quotient\": Divides the first number by the second number (if valid) and shows the result.\n",
    "\"Find Square\": Calculates the square of a number entered by the user.\n",
    "\"Find Square Root\": Calculates the square root of a number entered by the user.\n",
    "\n",
    "\n",
    "## Objective\n",
    "The objective of this project is to create a menu-based calculator that allows users to perform various mathematical operations easily. The program guides the user to select the desired operation from a list of options and provides accurate results. This project helps in understanding the use of conditional statements, functions (if used), input/output, and mathematical calculations in programming"
   ]
  },
  {
   "cell_type": "code",
   "execution_count": 2,
   "id": "7ac7b380-8911-4a1f-bc1b-efb113912dd8",
   "metadata": {},
   "outputs": [],
   "source": [
    "def starprint():\n",
    "    print(\"***********************************************\")"
   ]
  },
  {
   "cell_type": "code",
   "execution_count": 3,
   "id": "f7d77a7a-90d9-4f96-beaa-9ee1297dce8f",
   "metadata": {},
   "outputs": [],
   "source": [
    "# Calculator\n",
    "def menu():\n",
    "    starprint()\n",
    "    print(\"Calculator\");\n",
    "    starprint()\n",
    "    print(\"1. Find sum\")\n",
    "    print(\"2. Find Difference\")\n",
    "    print(\"3. Find Product\")\n",
    "    print(\"4. Find Quotient\")\n",
    "    print(\"5. Square\")\n",
    "    print(\"6. Square Root\")\n",
    "    print(\"7. Exit\")\n"
   ]
  },
  {
   "cell_type": "code",
   "execution_count": 4,
   "id": "5fd2e487-803b-4c9b-b864-7b00618075a3",
   "metadata": {},
   "outputs": [
    {
     "name": "stdout",
     "output_type": "stream",
     "text": [
      "***********************************************\n",
      "Calculator\n",
      "***********************************************\n",
      "1. Find sum\n",
      "2. Find Difference\n",
      "3. Find Product\n",
      "4. Find Quotient\n",
      "5. Square\n",
      "6. Square Root\n",
      "7. Exit\n"
     ]
    },
    {
     "name": "stdin",
     "output_type": "stream",
     "text": [
      "Enter Your Choice 7\n"
     ]
    },
    {
     "name": "stdout",
     "output_type": "stream",
     "text": [
      "***********************************************\n"
     ]
    }
   ],
   "source": [
    "def inputnumbers():\n",
    "    global num1 ,num2\n",
    "    num1=int(input(\"Enter the first number :\"))\n",
    "    num2 =int(input(\"Enter the second number :\"))\n",
    "\n",
    "def findsum():\n",
    "    fs = num1+num2\n",
    "    return fs\n",
    "\n",
    "def finddiff():\n",
    "    fd = num1-num2\n",
    "    return fd\n",
    "menu()\n",
    "enter_choice = int(input(\"Enter Your Choice\"))\n",
    "starprint()\n",
    "if enter_choice ==1:\n",
    "    inputnumbers()\n",
    "    s=findsum()\n",
    "    starprint()\n",
    "    print(\"The Result is \",s)\n",
    "    \n",
    "elif enter_choice ==2:\n",
    "    inputnumbers()\n",
    "    d=finddiff()\n",
    "    starprint()\n",
    "    print(\"The Result is \",d)\n",
    "    \n",
    "elif enter_choice ==3:\n",
    "    inputnumbers()\n",
    "    product = num1*num2\n",
    "    starprint()\n",
    "    print(\"The Result is \",product)\n",
    "    \n",
    "elif enter_choice ==4:\n",
    "     inputnumbers()\n",
    "     quotient = num1/num2\n",
    "     starprint()\n",
    "     print(\"The Result is \",quotient)\n",
    "\n",
    "elif enter_choice ==5:\n",
    "    n = int(input(\"Enter the number :\"))\n",
    "    square = n*n\n",
    "    starprint()\n",
    "    print(\"The Result is \",square)\n",
    "\n",
    "elif enter_choice ==6:\n",
    "    n = int(input(\"Enter the number :\"))\n",
    "    squareroot = math.sqrt(n)\n",
    "    starprint()\n",
    "    print(\"The Result is \",squareroot)\n",
    "         \n",
    "elif enter_choice ==7:\n",
    "    exit()\n",
    "else:\n",
    "    print(\"Invalid Choice\")"
   ]
  },
  {
   "cell_type": "code",
   "execution_count": null,
   "id": "fb030f2b-7d64-43d9-b4d8-05b8bea2abbd",
   "metadata": {},
   "outputs": [],
   "source": []
  }
 ],
 "metadata": {
  "kernelspec": {
   "display_name": "Python 3 (ipykernel)",
   "language": "python",
   "name": "python3"
  },
  "language_info": {
   "codemirror_mode": {
    "name": "ipython",
    "version": 3
   },
   "file_extension": ".py",
   "mimetype": "text/x-python",
   "name": "python",
   "nbconvert_exporter": "python",
   "pygments_lexer": "ipython3",
   "version": "3.13.5"
  }
 },
 "nbformat": 4,
 "nbformat_minor": 5
}
